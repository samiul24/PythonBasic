{
 "cells": [
  {
   "cell_type": "code",
   "execution_count": 1,
   "metadata": {},
   "outputs": [
    {
     "name": "stdout",
     "output_type": "stream",
     "text": [
      "['Convolutional Neural Networks in Python', 'Credit Card', 'Customer Analytics in Python', 'Data Preprocessing Numpy', 'Linera Regration', 'Machine Learning with Decision Trees and Random Forests', 'Machine Learning with Python', 'Machine Learning with Support Vector Machines', 'Machine Learning with Tensorflow', 'Pandas', 'Python Boot Camp', 'SQL Interview', 'The Complete Data Visualization Course with Python, R, Tableau, and Excel', 'Time Series Analysis in Python']\n",
      "6\n",
      "Machine Learning with Python\n"
     ]
    }
   ],
   "source": [
    "import os\n",
    "directory=os.listdir('E:\\Data 365 Course')\n",
    "print(directory)\n",
    "print(directory.index('Machine Learning with Python'))\n",
    "print(directory[6])"
   ]
  }
 ],
 "metadata": {
  "kernelspec": {
   "display_name": "Python 3.10.8 64-bit (microsoft store)",
   "language": "python",
   "name": "python3"
  },
  "language_info": {
   "codemirror_mode": {
    "name": "ipython",
    "version": 3
   },
   "file_extension": ".py",
   "mimetype": "text/x-python",
   "name": "python",
   "nbconvert_exporter": "python",
   "pygments_lexer": "ipython3",
   "version": "3.10.8"
  },
  "orig_nbformat": 4,
  "vscode": {
   "interpreter": {
    "hash": "7b1f2b33e866b0bf2409397e5f58ba9cdf170d3b7f64c8f359c79998e2f88ad4"
   }
  }
 },
 "nbformat": 4,
 "nbformat_minor": 2
}
